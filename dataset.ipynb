{
  "nbformat": 4,
  "nbformat_minor": 0,
  "metadata": {
    "colab": {
      "name": "Download Multimodal Entailment Dataset.ipynb",
      "provenance": [],
      "collapsed_sections": []
    },
    "kernelspec": {
      "name": "python3",
      "display_name": "Python 3"
    },
    "language_info": {
      "name": "python"
    }
  },
  "cells": [
    {
      "cell_type": "markdown",
      "metadata": {
        "id": "vfhDWWG828Et"
      },
      "source": [
        "#### Copyright 2021 Google LLC"
      ]
    },
    {
      "cell_type": "code",
      "metadata": {
        "cellView": "form",
        "id": "rCoF5rpt3J5D"
      },
      "source": [
        "#@title Licensed under the Apache License, Version 2.0 (the \"License\");\n",
        "# you may not use this file except in compliance with the License.\n",
        "# You may obtain a copy of the License at\n",
        "#\n",
        "#     https://www.apache.org/licenses/LICENSE-2.0\n",
        "#\n",
        "# Unless required by applicable law or agreed to in writing, software\n",
        "# distributed under the License is distributed on an \"AS IS\" BASIS,\n",
        "# WITHOUT WARRANTIES OR CONDITIONS OF ANY KIND, either express or implied.\n",
        "# See the License for the specific language governing permissions and\n",
        "# limitations under the License."
      ],
      "execution_count": null,
      "outputs": []
    },
    {
      "cell_type": "markdown",
      "metadata": {
        "id": "x1cygPls3jWX"
      },
      "source": [
        "# Recognizing Multimodal Entailment dataset v1"
      ]
    },
    {
      "cell_type": "markdown",
      "metadata": {
        "id": "Bvtxjk5C4mWT"
      },
      "source": [
        "## Overview\n",
        "\n",
        "How information is created, shared and consumed has changed rapidly in recent decades, in part thanks to new social platforms and technologies on the web. With ever-larger amounts of unstructured and limited labels, organizing and reconciling information from different sources and modalities is a central challenge in machine learning.\n",
        "\n",
        "This colab introduces the first version of the Recognizing Multimodal Entailment dataset, aiming to further encourage research in the topic."
      ]
    },
    {
      "cell_type": "markdown",
      "metadata": {
        "id": "lT0krZHA4syg"
      },
      "source": [
        "## Install and import dependencies"
      ]
    },
    {
      "cell_type": "code",
      "metadata": {
        "id": "NcD19fOvBT1F"
      },
      "source": [
        "!pip install -U --quiet tensorflow-addons\n",
        "!pip install --quiet twint\n",
        "!pip install --quiet whatthelang\n",
        "!pip install --quiet TwitterAPI\n",
        "!pip install --quiet Tweepy"
      ],
      "execution_count": null,
      "outputs": []
    },
    {
      "cell_type": "code",
      "metadata": {
        "id": "wNxi2DvVCiYL"
      },
      "source": [
        "import tensorflow as tf\n",
        "from tensorflow import keras\n",
        "from tensorflow.keras import layers\n",
        "import tensorflow_addons as tfa\n",
        "\n",
        "import os\n",
        "import tweepy\n",
        "import requests\n",
        "\n",
        "import pandas as pd\n",
        "import numpy as np\n",
        "\n",
        "from IPython.display import Image\n",
        "\n",
        "from tweepy import OAuthHandler\n",
        "from tqdm import tqdm\n",
        "from bs4 import BeautifulSoup as bs\n",
        "from urllib.parse import urljoin, urlparse\n",
        "from requests_oauthlib import OAuth1"
      ],
      "execution_count": null,
      "outputs": []
    },
    {
      "cell_type": "markdown",
      "metadata": {
        "id": "lYjrDWCG4ycG"
      },
      "source": [
        "## Dataset description\n",
        "\n",
        "The dataset consists of related social media URL pairs and their corresponding entailment label."
      ]
    },
    {
      "cell_type": "markdown",
      "metadata": {
        "id": "Jntq8frC5BRi"
      },
      "source": [
        "## Download dataset\n",
        "\n",
        "Read (url_1, url_2, label) CSV file from github."
      ]
    },
    {
      "cell_type": "code",
      "metadata": {
        "id": "K8JaO7GnBiFT"
      },
      "source": [
        "DATASET_PATH = 'https://raw.githubusercontent.com/google-research-datasets/recognizing-multimodal-entailment/main/dataset_v1.csv'"
      ],
      "execution_count": null,
      "outputs": []
    },
    {
      "cell_type": "code",
      "metadata": {
        "id": "Lm-9HDAH3Qcm"
      },
      "source": [
        "df = pd.read_csv(DATASET_PATH)\n",
        "df"
      ],
      "execution_count": null,
      "outputs": []
    },
    {
      "cell_type": "markdown",
      "metadata": {
        "id": "H_O8ITKZ5N2E"
      },
      "source": [
        "## Download contents with Twitter API\n",
        "\n",
        "Uses TwitterAPI to retrieve contents and filter out eventual skews e.g., tweets that are no longer available."
      ]
    },
    {
      "cell_type": "code",
      "metadata": {
        "id": "Y091BuOJLkKy"
      },
      "source": [
        "consumer_key = 'xxxx'\n",
        "consumer_secret = 'yyyy'\n",
        "access_token = '0000-aaaa'\n",
        "access_secret = 'zzzz'\n",
        "auth = OAuth1(consumer_key, consumer_secret,\n",
        "              access_token, access_secret)"
      ],
      "execution_count": null,
      "outputs": []
    },
    {
      "cell_type": "code",
      "metadata": {
        "id": "TTNXjU_BSmCG"
      },
      "source": [
        "auth = OAuthHandler(consumer_key, consumer_secret)\n",
        "auth.set_access_token(access_token, access_secret)\n",
        " \n",
        "api = tweepy.API(auth)"
      ],
      "execution_count": null,
      "outputs": []
    },
    {
      "cell_type": "code",
      "metadata": {
        "id": "a-IkVbBjUj8n"
      },
      "source": [
        "def get_tweet_id(url):\n",
        "  url_split = url.split('/status/')\n",
        "  if len(url_split) < 2:\n",
        "    print('Error getting id from url', url)\n",
        "    return None\n",
        "    \n",
        "  return url_split[-1]"
      ],
      "execution_count": null,
      "outputs": []
    },
    {
      "cell_type": "code",
      "metadata": {
        "id": "NeNdgUHvkGdJ"
      },
      "source": [
        "def text_and_image_urls(api, tweet_id):\n",
        "  try:\n",
        "    tweet = api.get_status(tweet_id, tweet_mode=\"extended\")\n",
        "  except tweepy.TweepError as e:\n",
        "    print('TweepError for', tweet_id, ':',\n",
        "          e.args[0][0]['code'], e.args[0][0]['message'])\n",
        "    return None\n",
        "\n",
        "  try:  # Retweet.\n",
        "    text = tweet.retweeted_status.full_text\n",
        "    media_urls = []\n",
        "    media = tweet.retweeted_status.entities.get('media', [])\n",
        "    for m in media:\n",
        "      media_urls.append(m['media_url'])\n",
        "    return text, media_urls\n",
        "  except AttributeError:  # Not a Retweet.\n",
        "    text = tweet.full_text\n",
        "    media_urls = []\n",
        "    media = tweet.entities.get('media', [])\n",
        "    for m in media:\n",
        "      media_urls.append(m['media_url'])\n",
        "    return text, media_urls"
      ],
      "execution_count": null,
      "outputs": []
    },
    {
      "cell_type": "code",
      "metadata": {
        "id": "Vrtj_xTyTdLS"
      },
      "source": [
        "def retrieve_tweets(df):\n",
        "  tweets = []\n",
        "  for _, rows in df.iterrows():\n",
        "    id_1, id_2 = get_tweet_id(rows['url_1']), get_tweet_id(rows['url_2'])\n",
        "    if id_1 is None or id_2 is None:\n",
        "      continue\n",
        "\n",
        "    tweet1 = text_and_image_urls(api, id_1)\n",
        "    if tweet1 is None:\n",
        "      print(rows['url_1'])\n",
        "      continue\n",
        "    if len(tweet1[1]) != 1:\n",
        "      print('Tweet', id1, 'without exactly one image')\n",
        "      continue\n",
        "    text_1, image_1 = tweet1[0], tweet1[1][0]\n",
        "\n",
        "    tweet2 = text_and_image_urls(api, id_2)\n",
        "    if tweet2 is None:\n",
        "      print(rows['url_2'])\n",
        "      continue\n",
        "    if len(tweet2[1]) != 1:\n",
        "      print('Tweet', id2, 'without exactly one image')\n",
        "      continue\n",
        "    text_2, image_2 = tweet2[0], tweet2[1][0]\n",
        "\n",
        "    label = rows['label']\n",
        "    \n",
        "    tweets.append({\n",
        "        'id_1': id_1,\n",
        "        'text_1': text_1,\n",
        "        'image_1': image_1,\n",
        "        'id_2': id_2,\n",
        "        'text_2': text_2,\n",
        "        'image_2': image_2,\n",
        "        'label' : label\n",
        "    })\n",
        "    \n",
        "  return tweets"
      ],
      "execution_count": null,
      "outputs": []
    },
    {
      "cell_type": "code",
      "metadata": {
        "id": "bMeO9Pnv6idk"
      },
      "source": [
        "tweets = retrieve_tweets(df)"
      ],
      "execution_count": null,
      "outputs": []
    },
    {
      "cell_type": "markdown",
      "metadata": {
        "id": "6LseLlhu7Qvr"
      },
      "source": [
        "## Download images"
      ]
    },
    {
      "cell_type": "code",
      "metadata": {
        "id": "uTayVuYMlcrw"
      },
      "source": [
        "def download(url, path, filename):\n",
        "  if not os.path.isdir(path):\n",
        "    os.makedirs(path)\n",
        "  response = requests.get(url, stream=True)\n",
        "  file_size = int(response.headers.get(\"Content-Length\", 0))\n",
        "  extension = '.' + url.split('.')[-1]\n",
        "  full_filename = os.path.join(path, filename + extension)\n",
        "  progress = tqdm(response.iter_content(1024),\n",
        "                  f\"Downloading {full_filename}\",\n",
        "                  total=file_size,\n",
        "                  unit=\"B\",\n",
        "                  unit_scale=True,\n",
        "                  unit_divisor=1024)\n",
        "  with open(full_filename, \"wb\") as f:\n",
        "    for data in progress:\n",
        "      f.write(data)\n",
        "      progress.update(len(data))"
      ],
      "execution_count": null,
      "outputs": []
    },
    {
      "cell_type": "code",
      "metadata": {
        "id": "2QPcOjUslpng"
      },
      "source": [
        "IMAGE_PATH = '/tmp/tweet_images/'\n",
        "for tweet in tweets:\n",
        "  download(tweet['image_1'], IMAGE_PATH, tweet['id_1'])\n",
        "  download(tweet['image_2'], IMAGE_PATH, tweet['id_2'])"
      ],
      "execution_count": null,
      "outputs": []
    },
    {
      "cell_type": "markdown",
      "metadata": {
        "id": "ckVO9Uzp7XcI"
      },
      "source": [
        "## Visualize texts and images from a sample tweet pair and corresponding entailment label\n",
        "\n"
      ]
    },
    {
      "cell_type": "code",
      "metadata": {
        "id": "iSE1NWbEl7tW"
      },
      "source": [
        "def visualize_tweet(tweet, index):\n",
        "  print(tweet['text_' + str(index)])\n",
        "\n",
        "  image_file = os.path.join(IMAGE_PATH, tweet['id_' + str(index)] + '.'\n",
        "                            + tweet['image_' + str(index)].split('.')[-1])\n",
        "  return Image(image_file)"
      ],
      "execution_count": null,
      "outputs": []
    },
    {
      "cell_type": "code",
      "metadata": {
        "id": "kjijeBeC9lch"
      },
      "source": [
        "tweet = tweets[np.random.randint(0, len(tweets))]"
      ],
      "execution_count": null,
      "outputs": []
    },
    {
      "cell_type": "code",
      "metadata": {
        "id": "UYG_GEUP80d0"
      },
      "source": [
        "visualize_tweet(tweet, 1)"
      ],
      "execution_count": null,
      "outputs": []
    },
    {
      "cell_type": "code",
      "metadata": {
        "id": "SdYiHmnC8jIB"
      },
      "source": [
        "visualize_tweet(tweet, 2)"
      ],
      "execution_count": null,
      "outputs": []
    },
    {
      "cell_type": "code",
      "metadata": {
        "id": "8z2_BHKU88N1"
      },
      "source": [
        "print(tweet['label'])"
      ],
      "execution_count": null,
      "outputs": []
    }
  ]
}
